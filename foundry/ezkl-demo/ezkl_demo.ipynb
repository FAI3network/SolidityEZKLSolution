{
  "cells": [
    {
      "cell_type": "code",
      "execution_count": 1,
      "metadata": {
        "id": "95613ee9"
      },
      "outputs": [
        {
          "name": "stdout",
          "output_type": "stream",
          "text": [
            "Requirement already satisfied: ezkl in /Users/santinihany/miniconda3/envs/ezkl/lib/python3.9/site-packages (11.0.14)\n",
            "Requirement already satisfied: onnx in /Users/santinihany/miniconda3/envs/ezkl/lib/python3.9/site-packages (1.16.1)\n",
            "Requirement already satisfied: numpy>=1.20 in /Users/santinihany/miniconda3/envs/ezkl/lib/python3.9/site-packages (from onnx) (1.26.4)\n",
            "Requirement already satisfied: protobuf>=3.20.2 in /Users/santinihany/miniconda3/envs/ezkl/lib/python3.9/site-packages (from onnx) (5.27.0)\n"
          ]
        }
      ],
      "source": [
        "# check if notebook is in colab\n",
        "try:\n",
        "    # install ezkl\n",
        "    import subprocess\n",
        "    import sys\n",
        "    subprocess.check_call([sys.executable, \"-m\", \"pip\", \"install\", \"ezkl\"])\n",
        "    subprocess.check_call([sys.executable, \"-m\", \"pip\", \"install\", \"onnx\"])\n",
        "\n",
        "# rely on local installation of ezkl if the notebook is not in colab\n",
        "except:\n",
        "    pass\n",
        "\n",
        "\n",
        "# here we create and (potentially train a model)\n",
        "\n",
        "# make sure you have the dependencies required here already installed\n",
        "from torch import nn\n",
        "import ezkl\n",
        "import os\n",
        "import json\n",
        "import torch\n",
        "\n",
        "\n",
        "# Defines the model\n",
        "# we got convs, we got relu, we got linear layers\n",
        "# What else could one want ????\n",
        "\n",
        "class MyModel(nn.Module):\n",
        "    def __init__(self):\n",
        "        super(MyModel, self).__init__()\n",
        "\n",
        "        self.conv1 = nn.Conv2d(in_channels=1, out_channels=2, kernel_size=5, stride=2)\n",
        "        self.conv2 = nn.Conv2d(in_channels=2, out_channels=3, kernel_size=5, stride=2)\n",
        "\n",
        "        self.relu = nn.ReLU()\n",
        "\n",
        "        self.d1 = nn.Linear(48, 48)\n",
        "        self.d2 = nn.Linear(48, 10)\n",
        "\n",
        "    def forward(self, x):\n",
        "        # 32x1x28x28 => 32x32x26x26\n",
        "        x = self.conv1(x)\n",
        "        x = self.relu(x)\n",
        "        x = self.conv2(x)\n",
        "        x = self.relu(x)\n",
        "\n",
        "        # flatten => 32 x (32*26*26)\n",
        "        x = x.flatten(start_dim = 1)\n",
        "\n",
        "        # 32 x (32*26*26) => 32x128\n",
        "        x = self.d1(x)\n",
        "        x = self.relu(x)\n",
        "\n",
        "        # logits => 32x10\n",
        "        logits = self.d2(x)\n",
        "\n",
        "        return logits\n",
        "\n",
        "\n",
        "circuit = MyModel()\n",
        "\n",
        "# Train the model as you like here (skipped for brevity)\n",
        "\n",
        "\n"
      ]
    },
    {
      "cell_type": "code",
      "execution_count": 2,
      "metadata": {
        "id": "b37637c4"
      },
      "outputs": [],
      "source": [
        "model_path = os.path.join('network.onnx')\n",
        "compiled_model_path = os.path.join('network.ezkl')\n",
        "pk_path = os.path.join('pk.key')\n",
        "vk_path = os.path.join('vk.key')\n",
        "settings_path = os.path.join('settings.json')\n",
        "srs_path = os.path.join('kzg.srs')\n",
        "\n",
        "witness_path = os.path.join('witness.json')\n",
        "data_path = os.path.join('input.json')\n",
        "\n",
        "sol_path = os.path.join(\"../src/verifierContract.sol\")\n",
        "abi_path = os.path.join(\"verifier_abi.json\")"
      ]
    },
    {
      "cell_type": "code",
      "execution_count": 3,
      "metadata": {
        "id": "82db373a"
      },
      "outputs": [],
      "source": [
        "\n",
        "shape = [1, 28, 28]\n",
        "# After training, export to onnx (network.onnx) and create a data file (input.json)\n",
        "x = 0.1*torch.rand(1,*shape, requires_grad=True)\n",
        "\n",
        "# Flips the neural net into inference mode\n",
        "circuit.eval()\n",
        "\n",
        "    # Export the model\n",
        "torch.onnx.export(circuit,               # model being run\n",
        "                      x,                   # model input (or a tuple for multiple inputs)\n",
        "                      model_path,            # where to save the model (can be a file or file-like object)\n",
        "                      export_params=True,        # store the trained parameter weights inside the model file\n",
        "                      opset_version=10,          # the ONNX version to export the model to\n",
        "                      do_constant_folding=True,  # whether to execute constant folding for optimization\n",
        "                      input_names = ['input'],   # the model's input names\n",
        "                      output_names = ['output'], # the model's output names\n",
        "                      dynamic_axes={'input' : {0 : 'batch_size'},    # variable length axes\n",
        "                                    'output' : {0 : 'batch_size'}})\n",
        "\n",
        "data_array = ((x).detach().numpy()).reshape([-1]).tolist()\n",
        "\n",
        "data = dict(input_data = [data_array])\n",
        "\n",
        "    # Serialize data into file:\n",
        "json.dump( data, open(data_path, 'w' ))\n"
      ]
    },
    {
      "cell_type": "code",
      "execution_count": 5,
      "metadata": {
        "id": "d5e374a2"
      },
      "outputs": [],
      "source": [
        "# private input, public output, public params/model\n",
        "py_run_args = ezkl.PyRunArgs()\n",
        "py_run_args.input_visibility = \"private\"\n",
        "py_run_args.output_visibility = \"public\"\n",
        "py_run_args.param_visibility = \"fixed\" # private by default\n",
        "\n",
        "res = ezkl.gen_settings(model_path, settings_path, py_run_args=py_run_args)\n",
        "\n",
        "assert res == True\n"
      ]
    },
    {
      "cell_type": "code",
      "execution_count": 4,
      "metadata": {
        "colab": {
          "base_uri": "https://localhost:8080/"
        },
        "id": "DB8pjIIRcU00",
        "outputId": "cb8b5e7a-3f86-4fd5-b54e-a2791c6b0402"
      },
      "outputs": [
        {
          "name": "stderr",
          "output_type": "stream",
          "text": [
            "calibration failed max lookup input (-1775279461, 1448637591) is too large\n",
            "calibration failed max lookup input (-3447489334187, 2999935220695) is too large\n",
            "calibration failed max lookup input (-3447489334187, 2999935220695) is too large\n",
            "calibration failed max lookup input (-7100748157, 5799556778) is too large\n",
            "calibration failed max lookup input (-27587429800270, 23997497660314) is too large\n",
            "calibration failed max lookup input (-27587429800270, 23997497660314) is too large\n",
            "calibration failed max lookup input (-40906178374, 42890034509) is too large\n",
            "calibration failed max lookup input (-220682617436702, 191977434428592) is too large\n",
            "calibration failed max lookup input (-220682617436702, 191977434428592) is too large\n",
            "calibration failed max lookup input (-14202942623, 11597818937) is too large\n",
            "calibration failed max lookup input (-55174781479162, 47996995103106) is too large\n",
            "calibration failed max lookup input (-55174781479162, 47996995103106) is too large\n",
            "Using 2 columns for non-linearity table.\n",
            "Using 2 columns for non-linearity table.\n",
            "Using 2 columns for non-linearity table.\n",
            "Using 4 columns for non-linearity table.\n",
            "Using 4 columns for non-linearity table.\n",
            "Using 4 columns for non-linearity table.\n",
            "Using 4 columns for non-linearity table.\n",
            "Using 4 columns for non-linearity table.\n",
            "Using 4 columns for non-linearity table.\n",
            "calibration failed max lookup input (-56813702283, 46327283677) is too large\n",
            "Using 2 columns for non-linearity table.\n",
            "Using 4 columns for non-linearity table.\n",
            "Using 4 columns for non-linearity table.\n",
            "calibration failed max lookup input (-441364610906434, 383970893453575) is too large\n",
            "calibration failed max lookup input (-441364610906434, 383970893453575) is too large\n",
            "Using 4 columns for non-linearity table.\n",
            "Using 4 columns for non-linearity table.\n",
            "Using 7 columns for non-linearity table.\n",
            "Using 7 columns for non-linearity table.\n",
            "calibration failed extended k is too large to accommodate the quotient polynomial with logrows 6\n",
            "calibration failed max lookup input (-113613536303, 92648109704) is too large\n",
            "Using 4 columns for non-linearity table.\n",
            "Using 7 columns for non-linearity table.\n",
            "calibration failed extended k is too large to accommodate the quotient polynomial with logrows 6\n",
            "circuit creation from run args failed: SigBitTruncationError\n",
            "circuit creation from run args failed: SigBitTruncationError\n",
            "\n",
            "\n",
            " <------------- Numerical Fidelity Report (input_scale: 12, param_scale: 12, scale_input_multiplier: 1) ------------->\n",
            "\n",
            "+---------------+---------------+---------------+---------------+----------------+------------------+---------------+----------------+--------------------+--------------------+------------------------+\n",
            "| mean_error    | median_error  | max_error     | min_error     | mean_abs_error | median_abs_error | max_abs_error | min_abs_error  | mean_squared_error | mean_percent_error | mean_abs_percent_error |\n",
            "+---------------+---------------+---------------+---------------+----------------+------------------+---------------+----------------+--------------------+--------------------+------------------------+\n",
            "| 0.00005055502 | 0.00019323081 | 0.00028643012 | -0.0002309531 | 0.0001016032   | 0.00019323081    | 0.00028643012 | 0.000000834465 | 0.000000015475395  | 0.0000992502       | 0.0010344571           |\n",
            "+---------------+---------------+---------------+---------------+----------------+------------------+---------------+----------------+--------------------+--------------------+------------------------+\n",
            "\n",
            "\n"
          ]
        },
        {
          "data": {
            "text/plain": [
              "True"
            ]
          },
          "execution_count": 4,
          "metadata": {},
          "output_type": "execute_result"
        }
      ],
      "source": [
        "cal_path = os.path.join(\"calibration.json\")\n",
        "\n",
        "data_array = (torch.rand(20, *shape, requires_grad=True).detach().numpy()).reshape([-1]).tolist()\n",
        "\n",
        "data = dict(input_data = [data_array])\n",
        "\n",
        "# Serialize data into file:\n",
        "json.dump(data, open(cal_path, 'w'))\n",
        "\n",
        "\n",
        "await ezkl.calibrate_settings(cal_path, model_path, settings_path, \"resources\")"
      ]
    },
    {
      "cell_type": "code",
      "execution_count": 7,
      "metadata": {
        "id": "3aa4f090"
      },
      "outputs": [],
      "source": [
        "res = ezkl.compile_circuit(model_path, compiled_model_path, settings_path)\n",
        "assert res == True"
      ]
    },
    {
      "cell_type": "code",
      "execution_count": 8,
      "metadata": {
        "id": "8b74dcee"
      },
      "outputs": [],
      "source": [
        "# srs path\n",
        "res = await ezkl.get_srs( settings_path, srs_path=srs_path)"
      ]
    },
    {
      "cell_type": "code",
      "execution_count": 10,
      "metadata": {
        "id": "b1c561a8"
      },
      "outputs": [],
      "source": [
        "\n",
        "# HERE WE SETUP THE CIRCUIT PARAMS\n",
        "# WE GOT KEYS\n",
        "# WE GOT CIRCUIT PARAMETERS\n",
        "# EVERYTHING ANYONE HAS EVER NEEDED FOR ZK\n",
        "\n",
        "\n",
        "\n",
        "res = ezkl.setup(\n",
        "        compiled_model_path,\n",
        "        vk_path,\n",
        "        pk_path,\n",
        "\n",
        "    )\n",
        "\n",
        "assert res == True\n",
        "assert os.path.isfile(vk_path)\n",
        "assert os.path.isfile(pk_path)\n",
        "assert os.path.isfile(settings_path)\n",
        "assert os.path.isfile(srs_path)"
      ]
    },
    {
      "cell_type": "code",
      "execution_count": null,
      "metadata": {},
      "outputs": [],
      "source": [
        "# now generate the witness file\n",
        "\n",
        "res = await ezkl.gen_witness(data_path, compiled_model_path, witness_path)\n",
        "assert os.path.isfile(witness_path)"
      ]
    },
    {
      "cell_type": "code",
      "execution_count": 11,
      "metadata": {
        "colab": {
          "base_uri": "https://localhost:8080/"
        },
        "id": "c384cbc8",
        "outputId": "83daa092-015c-46dc-b40b-3044517d89fd"
      },
      "outputs": [
        {
          "name": "stdout",
          "output_type": "stream",
          "text": [
            "{'instances': [['c501000000000000000000000000000000000000000000000000000000000000', '73feffef93f5e1439170b97948e833285d588181b64550b829a031e1724e6430', '5d00000000000000000000000000000000000000000000000000000000000000', '3a01000000000000000000000000000000000000000000000000000000000000', 'c600000000000000000000000000000000000000000000000000000000000000', '3101000000000000000000000000000000000000000000000000000000000000', 'fdfdffef93f5e1439170b97948e833285d588181b64550b829a031e1724e6430', 'e3fdffef93f5e1439170b97948e833285d588181b64550b829a031e1724e6430', '7ffeffef93f5e1439170b97948e833285d588181b64550b829a031e1724e6430', '0d00000000000000000000000000000000000000000000000000000000000000']], 'proof': '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', 'transcript_type': 'EVM'}\n"
          ]
        }
      ],
      "source": [
        "# GENERATE A PROOF\n",
        "\n",
        "\n",
        "proof_path = os.path.join('test.pf')\n",
        "\n",
        "res = ezkl.prove(\n",
        "        witness_path,\n",
        "        compiled_model_path,\n",
        "        pk_path,\n",
        "        proof_path,\n",
        "\n",
        "        \"single\",\n",
        "    )\n",
        "\n",
        "print(res)\n",
        "json.dump( res, open(\"proof.json\", 'w' ))\n",
        "assert os.path.isfile(proof_path)"
      ]
    },
    {
      "cell_type": "code",
      "execution_count": 12,
      "metadata": {
        "colab": {
          "base_uri": "https://localhost:8080/"
        },
        "id": "76f00d41",
        "outputId": "884c9649-e16a-4180-c58b-ec9a963d045d"
      },
      "outputs": [
        {
          "name": "stdout",
          "output_type": "stream",
          "text": [
            "verified\n"
          ]
        }
      ],
      "source": [
        "# VERIFY IT\n",
        "\n",
        "res = ezkl.verify(\n",
        "        proof_path,\n",
        "        settings_path,\n",
        "        vk_path,\n",
        "        \n",
        "    )\n",
        "\n",
        "assert res == True\n",
        "print(\"verified\")"
      ]
    },
    {
      "cell_type": "code",
      "execution_count": 18,
      "metadata": {
        "id": "y3no-CSSeaqY"
      },
      "outputs": [],
      "source": [
        "# ezkl.create_evm_verifier(vk_path=Ellipsis, settings_path=Ellipsis, sol_code_path=Ellipsis, abi_path=Ellipsis, srs_path=None, render_vk_seperately=Ellipsis\n",
        "\n",
        "res = await ezkl.create_evm_verifier(vk_path, settings_path, sol_path, abi_path)\n",
        "assert res == True"
      ]
    }
  ],
  "metadata": {
    "colab": {
      "provenance": []
    },
    "kernelspec": {
      "display_name": "Python 3",
      "name": "python3"
    },
    "language_info": {
      "codemirror_mode": {
        "name": "ipython",
        "version": 3
      },
      "file_extension": ".py",
      "mimetype": "text/x-python",
      "name": "python",
      "nbconvert_exporter": "python",
      "pygments_lexer": "ipython3",
      "version": "3.9.19"
    }
  },
  "nbformat": 4,
  "nbformat_minor": 0
}
